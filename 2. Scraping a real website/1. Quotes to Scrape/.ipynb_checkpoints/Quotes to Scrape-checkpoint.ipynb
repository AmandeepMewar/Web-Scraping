{
 "cells": [
  {
   "cell_type": "code",
   "execution_count": 1,
   "id": "7d9e9a68",
   "metadata": {},
   "outputs": [],
   "source": [
    "import pandas as pd\n",
    "from bs4 import BeautifulSoup\n",
    "import requests"
   ]
  },
  {
   "cell_type": "code",
   "execution_count": 2,
   "id": "4777efdd",
   "metadata": {},
   "outputs": [],
   "source": [
    "Q = []\n",
    "A = []\n",
    "T = []\n",
    "\n",
    "for i in range(1,11):\n",
    "    url = requests.get('https://quotes.toscrape.com/page/{}/'.format(i)).text\n",
    "    soup = BeautifulSoup(url, 'lxml')\n",
    "    content = soup.find_all('div', class_=\"quote\")\n",
    "\n",
    "    for qoutes in content:\n",
    "        qoute = qoutes.find('span', class_='text').text\n",
    "        author = qoutes.find('small', class_='author').text\n",
    "        tag = qoutes.div.meta['content']\n",
    "\n",
    "        Q.append(qoute)\n",
    "        A.append(author)\n",
    "        T.append(tag)\n"
   ]
  },
  {
   "cell_type": "code",
   "execution_count": 3,
   "id": "f39dedef",
   "metadata": {},
   "outputs": [],
   "source": [
    "df = pd.DataFrame({'Quotes': Q, 'Author': A, 'Tags': T})"
   ]
  },
  {
   "cell_type": "code",
   "execution_count": 4,
   "id": "695924d8",
   "metadata": {},
   "outputs": [
    {
     "name": "stdout",
     "output_type": "stream",
     "text": [
      "['“The world as we have created it is a process of our thinking. It cannot be changed without changing our thinking.”', '“It is our choices, Harry, that show what we truly are, far more than our abilities.”', '“There are only two ways to live your life. One is as though nothing is a miracle. The other is as though everything is a miracle.”', '“The person, be it gentleman or lady, who has not pleasure in a good novel, must be intolerably stupid.”', \"“Imperfection is beauty, madness is genius and it's better to be absolutely ridiculous than absolutely boring.”\", '“Try not to become a man of success. Rather become a man of value.”', '“It is better to be hated for what you are than to be loved for what you are not.”', \"“I have not failed. I've just found 10,000 ways that won't work.”\", \"“A woman is like a tea bag; you never know how strong it is until it's in hot water.”\", '“A day without sunshine is like, you know, night.”']\n"
     ]
    }
   ],
   "source": [
    "print(Q[:10])"
   ]
  },
  {
   "cell_type": "code",
   "execution_count": 5,
   "id": "64acd284",
   "metadata": {},
   "outputs": [
    {
     "name": "stdout",
     "output_type": "stream",
     "text": [
      "['Albert Einstein', 'J.K. Rowling', 'Albert Einstein', 'Jane Austen', 'Marilyn Monroe', 'Albert Einstein', 'André Gide', 'Thomas A. Edison', 'Eleanor Roosevelt', 'Steve Martin']\n"
     ]
    }
   ],
   "source": [
    "print(A[:10])"
   ]
  },
  {
   "cell_type": "code",
   "execution_count": 6,
   "id": "28ef9e16",
   "metadata": {},
   "outputs": [
    {
     "name": "stdout",
     "output_type": "stream",
     "text": [
      "['change,deep-thoughts,thinking,world', 'abilities,choices', 'inspirational,life,live,miracle,miracles', 'aliteracy,books,classic,humor', 'be-yourself,inspirational', 'adulthood,success,value', 'life,love', 'edison,failure,inspirational,paraphrased', 'misattributed-eleanor-roosevelt', 'humor,obvious,simile']\n"
     ]
    }
   ],
   "source": [
    "print(T[:10])"
   ]
  },
  {
   "cell_type": "code",
   "execution_count": 7,
   "id": "1854f429",
   "metadata": {},
   "outputs": [
    {
     "data": {
      "text/html": [
       "<div>\n",
       "<style scoped>\n",
       "    .dataframe tbody tr th:only-of-type {\n",
       "        vertical-align: middle;\n",
       "    }\n",
       "\n",
       "    .dataframe tbody tr th {\n",
       "        vertical-align: top;\n",
       "    }\n",
       "\n",
       "    .dataframe thead th {\n",
       "        text-align: right;\n",
       "    }\n",
       "</style>\n",
       "<table border=\"1\" class=\"dataframe\">\n",
       "  <thead>\n",
       "    <tr style=\"text-align: right;\">\n",
       "      <th></th>\n",
       "      <th>Quotes</th>\n",
       "      <th>Author</th>\n",
       "      <th>Tags</th>\n",
       "    </tr>\n",
       "  </thead>\n",
       "  <tbody>\n",
       "    <tr>\n",
       "      <th>0</th>\n",
       "      <td>“The world as we have created it is a process ...</td>\n",
       "      <td>Albert Einstein</td>\n",
       "      <td>change,deep-thoughts,thinking,world</td>\n",
       "    </tr>\n",
       "    <tr>\n",
       "      <th>1</th>\n",
       "      <td>“It is our choices, Harry, that show what we t...</td>\n",
       "      <td>J.K. Rowling</td>\n",
       "      <td>abilities,choices</td>\n",
       "    </tr>\n",
       "    <tr>\n",
       "      <th>2</th>\n",
       "      <td>“There are only two ways to live your life. On...</td>\n",
       "      <td>Albert Einstein</td>\n",
       "      <td>inspirational,life,live,miracle,miracles</td>\n",
       "    </tr>\n",
       "    <tr>\n",
       "      <th>3</th>\n",
       "      <td>“The person, be it gentleman or lady, who has ...</td>\n",
       "      <td>Jane Austen</td>\n",
       "      <td>aliteracy,books,classic,humor</td>\n",
       "    </tr>\n",
       "    <tr>\n",
       "      <th>4</th>\n",
       "      <td>“Imperfection is beauty, madness is genius and...</td>\n",
       "      <td>Marilyn Monroe</td>\n",
       "      <td>be-yourself,inspirational</td>\n",
       "    </tr>\n",
       "    <tr>\n",
       "      <th>5</th>\n",
       "      <td>“Try not to become a man of success. Rather be...</td>\n",
       "      <td>Albert Einstein</td>\n",
       "      <td>adulthood,success,value</td>\n",
       "    </tr>\n",
       "    <tr>\n",
       "      <th>6</th>\n",
       "      <td>“It is better to be hated for what you are tha...</td>\n",
       "      <td>André Gide</td>\n",
       "      <td>life,love</td>\n",
       "    </tr>\n",
       "    <tr>\n",
       "      <th>7</th>\n",
       "      <td>“I have not failed. I've just found 10,000 way...</td>\n",
       "      <td>Thomas A. Edison</td>\n",
       "      <td>edison,failure,inspirational,paraphrased</td>\n",
       "    </tr>\n",
       "    <tr>\n",
       "      <th>8</th>\n",
       "      <td>“A woman is like a tea bag; you never know how...</td>\n",
       "      <td>Eleanor Roosevelt</td>\n",
       "      <td>misattributed-eleanor-roosevelt</td>\n",
       "    </tr>\n",
       "    <tr>\n",
       "      <th>9</th>\n",
       "      <td>“A day without sunshine is like, you know, nig...</td>\n",
       "      <td>Steve Martin</td>\n",
       "      <td>humor,obvious,simile</td>\n",
       "    </tr>\n",
       "  </tbody>\n",
       "</table>\n",
       "</div>"
      ],
      "text/plain": [
       "                                              Quotes             Author  \\\n",
       "0  “The world as we have created it is a process ...    Albert Einstein   \n",
       "1  “It is our choices, Harry, that show what we t...       J.K. Rowling   \n",
       "2  “There are only two ways to live your life. On...    Albert Einstein   \n",
       "3  “The person, be it gentleman or lady, who has ...        Jane Austen   \n",
       "4  “Imperfection is beauty, madness is genius and...     Marilyn Monroe   \n",
       "5  “Try not to become a man of success. Rather be...    Albert Einstein   \n",
       "6  “It is better to be hated for what you are tha...         André Gide   \n",
       "7  “I have not failed. I've just found 10,000 way...   Thomas A. Edison   \n",
       "8  “A woman is like a tea bag; you never know how...  Eleanor Roosevelt   \n",
       "9  “A day without sunshine is like, you know, nig...       Steve Martin   \n",
       "\n",
       "                                       Tags  \n",
       "0       change,deep-thoughts,thinking,world  \n",
       "1                         abilities,choices  \n",
       "2  inspirational,life,live,miracle,miracles  \n",
       "3             aliteracy,books,classic,humor  \n",
       "4                 be-yourself,inspirational  \n",
       "5                   adulthood,success,value  \n",
       "6                                 life,love  \n",
       "7  edison,failure,inspirational,paraphrased  \n",
       "8           misattributed-eleanor-roosevelt  \n",
       "9                      humor,obvious,simile  "
      ]
     },
     "execution_count": 7,
     "metadata": {},
     "output_type": "execute_result"
    }
   ],
   "source": [
    "df.head(10)"
   ]
  },
  {
   "cell_type": "code",
   "execution_count": 8,
   "id": "3b980988",
   "metadata": {},
   "outputs": [
    {
     "data": {
      "text/html": [
       "<div>\n",
       "<style scoped>\n",
       "    .dataframe tbody tr th:only-of-type {\n",
       "        vertical-align: middle;\n",
       "    }\n",
       "\n",
       "    .dataframe tbody tr th {\n",
       "        vertical-align: top;\n",
       "    }\n",
       "\n",
       "    .dataframe thead th {\n",
       "        text-align: right;\n",
       "    }\n",
       "</style>\n",
       "<table border=\"1\" class=\"dataframe\">\n",
       "  <thead>\n",
       "    <tr style=\"text-align: right;\">\n",
       "      <th></th>\n",
       "      <th>Quotes</th>\n",
       "      <th>Author</th>\n",
       "      <th>Tags</th>\n",
       "    </tr>\n",
       "  </thead>\n",
       "  <tbody>\n",
       "    <tr>\n",
       "      <th>90</th>\n",
       "      <td>“The truth.\" Dumbledore sighed. \"It is a beaut...</td>\n",
       "      <td>J.K. Rowling</td>\n",
       "      <td>truth</td>\n",
       "    </tr>\n",
       "    <tr>\n",
       "      <th>91</th>\n",
       "      <td>“I'm the one that's got to die when it's time ...</td>\n",
       "      <td>Jimi Hendrix</td>\n",
       "      <td>death,life</td>\n",
       "    </tr>\n",
       "    <tr>\n",
       "      <th>92</th>\n",
       "      <td>“To die will be an awfully big adventure.”</td>\n",
       "      <td>J.M. Barrie</td>\n",
       "      <td>adventure,love</td>\n",
       "    </tr>\n",
       "    <tr>\n",
       "      <th>93</th>\n",
       "      <td>“It takes courage to grow up and become who yo...</td>\n",
       "      <td>E.E. Cummings</td>\n",
       "      <td>courage</td>\n",
       "    </tr>\n",
       "    <tr>\n",
       "      <th>94</th>\n",
       "      <td>“But better to get hurt by the truth than comf...</td>\n",
       "      <td>Khaled Hosseini</td>\n",
       "      <td>life</td>\n",
       "    </tr>\n",
       "    <tr>\n",
       "      <th>95</th>\n",
       "      <td>“You never really understand a person until yo...</td>\n",
       "      <td>Harper Lee</td>\n",
       "      <td>better-life-empathy</td>\n",
       "    </tr>\n",
       "    <tr>\n",
       "      <th>96</th>\n",
       "      <td>“You have to write the book that wants to be w...</td>\n",
       "      <td>Madeleine L'Engle</td>\n",
       "      <td>books,children,difficult,grown-ups,write,write...</td>\n",
       "    </tr>\n",
       "    <tr>\n",
       "      <th>97</th>\n",
       "      <td>“Never tell the truth to people who are not wo...</td>\n",
       "      <td>Mark Twain</td>\n",
       "      <td>truth</td>\n",
       "    </tr>\n",
       "    <tr>\n",
       "      <th>98</th>\n",
       "      <td>“A person's a person, no matter how small.”</td>\n",
       "      <td>Dr. Seuss</td>\n",
       "      <td>inspirational</td>\n",
       "    </tr>\n",
       "    <tr>\n",
       "      <th>99</th>\n",
       "      <td>“... a mind needs books as a sword needs a whe...</td>\n",
       "      <td>George R.R. Martin</td>\n",
       "      <td>books,mind</td>\n",
       "    </tr>\n",
       "  </tbody>\n",
       "</table>\n",
       "</div>"
      ],
      "text/plain": [
       "                                               Quotes              Author  \\\n",
       "90  “The truth.\" Dumbledore sighed. \"It is a beaut...        J.K. Rowling   \n",
       "91  “I'm the one that's got to die when it's time ...        Jimi Hendrix   \n",
       "92         “To die will be an awfully big adventure.”         J.M. Barrie   \n",
       "93  “It takes courage to grow up and become who yo...       E.E. Cummings   \n",
       "94  “But better to get hurt by the truth than comf...     Khaled Hosseini   \n",
       "95  “You never really understand a person until yo...          Harper Lee   \n",
       "96  “You have to write the book that wants to be w...   Madeleine L'Engle   \n",
       "97  “Never tell the truth to people who are not wo...          Mark Twain   \n",
       "98        “A person's a person, no matter how small.”           Dr. Seuss   \n",
       "99  “... a mind needs books as a sword needs a whe...  George R.R. Martin   \n",
       "\n",
       "                                                 Tags  \n",
       "90                                              truth  \n",
       "91                                         death,life  \n",
       "92                                     adventure,love  \n",
       "93                                            courage  \n",
       "94                                               life  \n",
       "95                                better-life-empathy  \n",
       "96  books,children,difficult,grown-ups,write,write...  \n",
       "97                                              truth  \n",
       "98                                      inspirational  \n",
       "99                                         books,mind  "
      ]
     },
     "execution_count": 8,
     "metadata": {},
     "output_type": "execute_result"
    }
   ],
   "source": [
    "df.tail(10)"
   ]
  },
  {
   "cell_type": "code",
   "execution_count": 9,
   "id": "2604e123",
   "metadata": {},
   "outputs": [],
   "source": [
    "df.to_excel('output.xlsx')"
   ]
  }
 ],
 "metadata": {
  "kernelspec": {
   "display_name": "Python 3 (ipykernel)",
   "language": "python",
   "name": "python3"
  },
  "language_info": {
   "codemirror_mode": {
    "name": "ipython",
    "version": 3
   },
   "file_extension": ".py",
   "mimetype": "text/x-python",
   "name": "python",
   "nbconvert_exporter": "python",
   "pygments_lexer": "ipython3",
   "version": "3.7.9"
  }
 },
 "nbformat": 4,
 "nbformat_minor": 5
}
